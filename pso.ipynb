{
 "cells": [
  {
   "cell_type": "code",
   "execution_count": 1,
   "metadata": {},
   "outputs": [
    {
     "name": "stdout",
     "output_type": "stream",
     "text": [
      "Requirement already satisfied: scikit-learn in c:\\users\\lilia\\appdata\\local\\programs\\python\\python310\\lib\\site-packages (1.2.2)\n",
      "Requirement already satisfied: numpy>=1.17.3 in c:\\users\\lilia\\appdata\\local\\programs\\python\\python310\\lib\\site-packages (from scikit-learn) (1.23.5)\n",
      "Requirement already satisfied: scipy>=1.3.2 in c:\\users\\lilia\\appdata\\local\\programs\\python\\python310\\lib\\site-packages (from scikit-learn) (1.10.1)\n",
      "Requirement already satisfied: joblib>=1.1.1 in c:\\users\\lilia\\appdata\\local\\programs\\python\\python310\\lib\\site-packages (from scikit-learn) (1.2.0)\n",
      "Requirement already satisfied: threadpoolctl>=2.0.0 in c:\\users\\lilia\\appdata\\local\\programs\\python\\python310\\lib\\site-packages (from scikit-learn) (3.1.0)\n"
     ]
    }
   ],
   "source": [
    "# Installing scikit-learn\n",
    "!pip install scikit-learn"
   ]
  },
  {
   "cell_type": "code",
   "execution_count": 2,
   "metadata": {},
   "outputs": [],
   "source": [
    "# Import necessary libraries\n",
    "from sklearn.model_selection import train_test_split\n",
    "from sklearn.tree import DecisionTreeClassifier\n",
    "from sklearn.metrics import accuracy_score, classification_report, confusion_matrix\n",
    "import pandas as pd\n",
    "\n",
    "data = pd.read_csv('UNSW_NB15.csv')\n",
    "data = data.sample(n=10000, random_state=42)\n",
    "# One hot encodin\n",
    "# Assuming 'data' is your dataset containing both numerical and categorical columns\n",
    "# Use the appropriate columns that contain categorical data\n",
    "categorical_cols = ['proto', 'service','state']  # Replace with your categorical column names\n",
    "\n",
    "# Perform one-hot encoding for categorical columns\n",
    "data_encoded = pd.get_dummies(data, columns=categorical_cols)\n",
    "\n",
    "# Split the encoded data into features and target\n",
    "features_encoded = data_encoded.drop('attack_cat', axis=1)  # Replace 'target_column' with your target column name\n",
    "target_encoded = data_encoded['attack_cat']  # Replace 'target_column' with your target column name\n",
    "\n",
    "# Split the encoded data into training and testing sets\n",
    "X_train, X_test, y_train, y_test = train_test_split(features_encoded, target_encoded, test_size=0.2, random_state=42)\n"
   ]
  },
  {
   "cell_type": "code",
   "execution_count": 3,
   "metadata": {},
   "outputs": [
    {
     "data": {
      "text/html": [
       "<style>#sk-container-id-1 {color: black;background-color: white;}#sk-container-id-1 pre{padding: 0;}#sk-container-id-1 div.sk-toggleable {background-color: white;}#sk-container-id-1 label.sk-toggleable__label {cursor: pointer;display: block;width: 100%;margin-bottom: 0;padding: 0.3em;box-sizing: border-box;text-align: center;}#sk-container-id-1 label.sk-toggleable__label-arrow:before {content: \"▸\";float: left;margin-right: 0.25em;color: #696969;}#sk-container-id-1 label.sk-toggleable__label-arrow:hover:before {color: black;}#sk-container-id-1 div.sk-estimator:hover label.sk-toggleable__label-arrow:before {color: black;}#sk-container-id-1 div.sk-toggleable__content {max-height: 0;max-width: 0;overflow: hidden;text-align: left;background-color: #f0f8ff;}#sk-container-id-1 div.sk-toggleable__content pre {margin: 0.2em;color: black;border-radius: 0.25em;background-color: #f0f8ff;}#sk-container-id-1 input.sk-toggleable__control:checked~div.sk-toggleable__content {max-height: 200px;max-width: 100%;overflow: auto;}#sk-container-id-1 input.sk-toggleable__control:checked~label.sk-toggleable__label-arrow:before {content: \"▾\";}#sk-container-id-1 div.sk-estimator input.sk-toggleable__control:checked~label.sk-toggleable__label {background-color: #d4ebff;}#sk-container-id-1 div.sk-label input.sk-toggleable__control:checked~label.sk-toggleable__label {background-color: #d4ebff;}#sk-container-id-1 input.sk-hidden--visually {border: 0;clip: rect(1px 1px 1px 1px);clip: rect(1px, 1px, 1px, 1px);height: 1px;margin: -1px;overflow: hidden;padding: 0;position: absolute;width: 1px;}#sk-container-id-1 div.sk-estimator {font-family: monospace;background-color: #f0f8ff;border: 1px dotted black;border-radius: 0.25em;box-sizing: border-box;margin-bottom: 0.5em;}#sk-container-id-1 div.sk-estimator:hover {background-color: #d4ebff;}#sk-container-id-1 div.sk-parallel-item::after {content: \"\";width: 100%;border-bottom: 1px solid gray;flex-grow: 1;}#sk-container-id-1 div.sk-label:hover label.sk-toggleable__label {background-color: #d4ebff;}#sk-container-id-1 div.sk-serial::before {content: \"\";position: absolute;border-left: 1px solid gray;box-sizing: border-box;top: 0;bottom: 0;left: 50%;z-index: 0;}#sk-container-id-1 div.sk-serial {display: flex;flex-direction: column;align-items: center;background-color: white;padding-right: 0.2em;padding-left: 0.2em;position: relative;}#sk-container-id-1 div.sk-item {position: relative;z-index: 1;}#sk-container-id-1 div.sk-parallel {display: flex;align-items: stretch;justify-content: center;background-color: white;position: relative;}#sk-container-id-1 div.sk-item::before, #sk-container-id-1 div.sk-parallel-item::before {content: \"\";position: absolute;border-left: 1px solid gray;box-sizing: border-box;top: 0;bottom: 0;left: 50%;z-index: -1;}#sk-container-id-1 div.sk-parallel-item {display: flex;flex-direction: column;z-index: 1;position: relative;background-color: white;}#sk-container-id-1 div.sk-parallel-item:first-child::after {align-self: flex-end;width: 50%;}#sk-container-id-1 div.sk-parallel-item:last-child::after {align-self: flex-start;width: 50%;}#sk-container-id-1 div.sk-parallel-item:only-child::after {width: 0;}#sk-container-id-1 div.sk-dashed-wrapped {border: 1px dashed gray;margin: 0 0.4em 0.5em 0.4em;box-sizing: border-box;padding-bottom: 0.4em;background-color: white;}#sk-container-id-1 div.sk-label label {font-family: monospace;font-weight: bold;display: inline-block;line-height: 1.2em;}#sk-container-id-1 div.sk-label-container {text-align: center;}#sk-container-id-1 div.sk-container {/* jupyter's `normalize.less` sets `[hidden] { display: none; }` but bootstrap.min.css set `[hidden] { display: none !important; }` so we also need the `!important` here to be able to override the default hidden behavior on the sphinx rendered scikit-learn.org. See: https://github.com/scikit-learn/scikit-learn/issues/21755 */display: inline-block !important;position: relative;}#sk-container-id-1 div.sk-text-repr-fallback {display: none;}</style><div id=\"sk-container-id-1\" class=\"sk-top-container\"><div class=\"sk-text-repr-fallback\"><pre>DecisionTreeClassifier(random_state=42)</pre><b>In a Jupyter environment, please rerun this cell to show the HTML representation or trust the notebook. <br />On GitHub, the HTML representation is unable to render, please try loading this page with nbviewer.org.</b></div><div class=\"sk-container\" hidden><div class=\"sk-item\"><div class=\"sk-estimator sk-toggleable\"><input class=\"sk-toggleable__control sk-hidden--visually\" id=\"sk-estimator-id-1\" type=\"checkbox\" checked><label for=\"sk-estimator-id-1\" class=\"sk-toggleable__label sk-toggleable__label-arrow\">DecisionTreeClassifier</label><div class=\"sk-toggleable__content\"><pre>DecisionTreeClassifier(random_state=42)</pre></div></div></div></div></div>"
      ],
      "text/plain": [
       "DecisionTreeClassifier(random_state=42)"
      ]
     },
     "execution_count": 3,
     "metadata": {},
     "output_type": "execute_result"
    }
   ],
   "source": [
    "# Initialize and train the classifier on the encoded training data\n",
    "# Initialize the Decision Tree Classifier\n",
    "clf = DecisionTreeClassifier(random_state=42)\n",
    "\n",
    "# Train the classifier on the training data\n",
    "clf.fit(X_train, y_train)"
   ]
  },
  {
   "cell_type": "code",
   "execution_count": 4,
   "metadata": {},
   "outputs": [
    {
     "name": "stdout",
     "output_type": "stream",
     "text": [
      "Accuracy: 0.8425\n",
      "Confusion Matrix:\n",
      "[[  3   0   4  14   3   0   0   0   0   0]\n",
      " [  2   1   9   8   3   0   0   2   0   0]\n",
      " [  6   3  40  59   5   1   0   4   0   0]\n",
      " [  9   5  55 243  11   4   0  12   2   1]\n",
      " [  3   2   9  23 143   1   0   4   2   0]\n",
      " [  0   0   2   7   2 451   0   0   0   0]\n",
      " [  0   0   0   0   0   0 725   0   0   0]\n",
      " [  0   2   7  15   8   0   0  78   0   0]\n",
      " [  0   0   0   4   1   1   0   0   1   0]\n",
      " [  0   0   0   0   0   0   0   0   0   0]]\n",
      "Classification Report:\n",
      "                precision    recall  f1-score   support\n",
      "\n",
      "      Analysis       0.13      0.12      0.13        24\n",
      "      Backdoor       0.08      0.04      0.05        25\n",
      "           DoS       0.32      0.34      0.33       118\n",
      "      Exploits       0.65      0.71      0.68       342\n",
      "       Fuzzers       0.81      0.76      0.79       187\n",
      "       Generic       0.98      0.98      0.98       462\n",
      "        Normal       1.00      1.00      1.00       725\n",
      "Reconnaissance       0.78      0.71      0.74       110\n",
      "     Shellcode       0.20      0.14      0.17         7\n",
      "         Worms       0.00      0.00      0.00         0\n",
      "\n",
      "      accuracy                           0.84      2000\n",
      "     macro avg       0.50      0.48      0.49      2000\n",
      "  weighted avg       0.84      0.84      0.84      2000\n",
      "\n"
     ]
    },
    {
     "name": "stderr",
     "output_type": "stream",
     "text": [
      "c:\\Users\\Lilia\\AppData\\Local\\Programs\\Python\\Python310\\lib\\site-packages\\sklearn\\metrics\\_classification.py:1344: UndefinedMetricWarning: Recall and F-score are ill-defined and being set to 0.0 in labels with no true samples. Use `zero_division` parameter to control this behavior.\n",
      "  _warn_prf(average, modifier, msg_start, len(result))\n",
      "c:\\Users\\Lilia\\AppData\\Local\\Programs\\Python\\Python310\\lib\\site-packages\\sklearn\\metrics\\_classification.py:1344: UndefinedMetricWarning: Recall and F-score are ill-defined and being set to 0.0 in labels with no true samples. Use `zero_division` parameter to control this behavior.\n",
      "  _warn_prf(average, modifier, msg_start, len(result))\n",
      "c:\\Users\\Lilia\\AppData\\Local\\Programs\\Python\\Python310\\lib\\site-packages\\sklearn\\metrics\\_classification.py:1344: UndefinedMetricWarning: Recall and F-score are ill-defined and being set to 0.0 in labels with no true samples. Use `zero_division` parameter to control this behavior.\n",
      "  _warn_prf(average, modifier, msg_start, len(result))\n"
     ]
    }
   ],
   "source": [
    "# Predict on the test data\n",
    "y_pred = clf.predict(X_test)\n",
    "\n",
    "# Calculate accuracy\n",
    "accuracy = accuracy_score(y_test, y_pred)\n",
    "print(f\"Accuracy: {accuracy}\")\n",
    "\n",
    "# Confusion matrix\n",
    "print(\"Confusion Matrix:\")\n",
    "print(confusion_matrix(y_test, y_pred))\n",
    "\n",
    "# Classification report\n",
    "print(\"Classification Report:\")\n",
    "print(classification_report(y_test, y_pred))"
   ]
  },
  {
   "cell_type": "code",
   "execution_count": null,
   "metadata": {},
   "outputs": [],
   "source": [
    "def pso(objective_function, lb, ub, swarmsize=100, maxiter=100, c1=1.5, c2=1.5, w=0.5):\n",
    "    dimensions = len(lb)\n",
    "    \n",
    "    # Initialize particles\n",
    "    particles = np.random.uniform(lb, ub, (swarmsize, dimensions))\n",
    "    velocities = np.zeros((swarmsize, dimensions))\n",
    "    \n",
    "    # Initialize personal best positions and values\n",
    "    pbest_positions = particles.copy()\n",
    "    pbest_values = np.array([objective_function(p) for p in particles])\n",
    "    \n",
    "    # Initialize global best position and value\n",
    "    gbest_index = np.argmin(pbest_values)\n",
    "    gbest_position = pbest_positions[gbest_index].copy()\n",
    "    gbest_value = pbest_values[gbest_index]\n",
    "    \n",
    "    for _ in range(maxiter):\n",
    "        for i in range(swarmsize):\n",
    "            # Update velocity\n",
    "            r1, r2 = np.random.rand(dimensions), np.random.rand(dimensions)\n",
    "            velocities[i] = w * velocities[i] + c1 * r1 * (pbest_positions[i] - particles[i]) + c2 * r2 * (gbest_position - particles[i])\n",
    "            \n",
    "            # Update particle position\n",
    "            particles[i] += velocities[i]\n",
    "            \n",
    "            # Clip particle position to be within bounds\n",
    "            particles[i] = np.clip(particles[i], lb, ub)\n",
    "            \n",
    "            # Evaluate the objective function\n",
    "            current_value = objective_function(particles[i])\n",
    "            \n",
    "            # Update personal best if needed\n",
    "            if current_value < pbest_values[i]:\n",
    "                pbest_values[i] = current_value\n",
    "                pbest_positions[i] = particles[i].copy()\n",
    "                \n",
    "                # Update global best if needed\n",
    "                if current_value < gbest_value:\n",
    "                    gbest_value = current_value\n",
    "                    gbest_position = particles[i].copy()\n",
    "        \n",
    "    return gbest_position, gbest_value"
   ]
  },
  {
   "cell_type": "code",
   "execution_count": 6,
   "metadata": {},
   "outputs": [
    {
     "name": "stdout",
     "output_type": "stream",
     "text": [
      "Best Hyperparameters: {'criterion': 'gini', 'max_depth': 10, 'min_samples_leaf': 3, 'min_samples_split': 7}\n"
     ]
    }
   ],
   "source": [
    "from sklearn.model_selection import GridSearchCV\n",
    "\n",
    "# Define the hyperparameter space for Decision Tree\n",
    "param_grid = {\n",
    "    'max_depth': [None, 5, 10, 15, 20],\n",
    "    'min_samples_split': [2, 3, 5, 7, 10],\n",
    "    'min_samples_leaf': [1, 2, 3, 5, 8],\n",
    "    'criterion': ['gini', 'entropy']\n",
    "}\n",
    "\n",
    "# Initialize the Decision Tree Classifier\n",
    "clf = DecisionTreeClassifier(random_state=42)\n",
    "\n",
    "# Grid Search CV to perform the initial search\n",
    "grid_search = GridSearchCV(clf, param_grid, cv=5, scoring='accuracy')\n",
    "grid_search.fit(X_train, y_train)\n",
    "\n",
    "# Extract the best hyperparameters\n",
    "best_params = grid_search.best_params_\n",
    "print(\"Best Hyperparameters:\", best_params)"
   ]
  },
  {
   "cell_type": "code",
   "execution_count": 7,
   "metadata": {},
   "outputs": [
    {
     "name": "stdout",
     "output_type": "stream",
     "text": [
      "Stopping search: maximum iterations reached --> 50\n"
     ]
    }
   ],
   "source": [
    "# Define the objective function for PSO\n",
    "def objective_function(params):\n",
    "    # Define hyperparameter names corresponding to their positions in the array\n",
    "    hyperparameters = {\n",
    "        'max_depth': int(params[0]),\n",
    "        'min_samples_split': int(params[1]),\n",
    "        'min_samples_leaf': int(params[2]),\n",
    "        'criterion': ['gini', 'entropy'][int(params[3])]\n",
    "    }\n",
    "    \n",
    "    # Create a DecisionTreeClassifier with the specified hyperparameters\n",
    "    clf = DecisionTreeClassifier(random_state=42, **hyperparameters)\n",
    "    clf.fit(X_train, y_train)\n",
    "    y_pred = clf.predict(X_test)\n",
    "    return -accuracy_score(y_test, y_pred)  # Negative accuracy for minimization\n",
    "\n",
    "# Define bounds for each hyperparameter\n",
    "lower_bounds = [1, 2, 1, 0]  # Minimum values for max_depth, min_samples_split, min_samples_leaf, criterion index\n",
    "upper_bounds = [30, 10, 4, 1]  # Maximum values for max_depth, min_samples_split, min_samples_leaf, criterion index\n",
    "\n",
    "# Perform PSO for hyperparameter optimization\n",
    "best_params_pso, _ = pso(objective_function, lower_bounds, upper_bounds, swarmsize=10, maxiter=50)"
   ]
  },
  {
   "cell_type": "code",
   "execution_count": 8,
   "metadata": {},
   "outputs": [
    {
     "name": "stdout",
     "output_type": "stream",
     "text": [
      "Optimized Hyperparameters: {'max_depth': 15, 'min_samples_split': 4, 'min_samples_leaf': 4, 'criterion': 'gini'}\n",
      "Accuracy with optimized hyperparameters: 0.859\n"
     ]
    }
   ],
   "source": [
    "# Print optimized parameters\n",
    "optimal_params = {\n",
    "    'max_depth': int(best_params_pso[0]),\n",
    "    'min_samples_split': int(best_params_pso[1]),\n",
    "    'min_samples_leaf': int(best_params_pso[2]),\n",
    "    'criterion': ['gini', 'entropy'][int(best_params_pso[3])]\n",
    "}\n",
    "print(\"Optimized Hyperparameters:\", optimal_params)\n",
    "\n",
    "# Train a Decision Tree Classifier with optimized hyperparameters\n",
    "clf_optimized = DecisionTreeClassifier(random_state=42, **optimal_params)\n",
    "clf_optimized.fit(X_train, y_train)\n",
    "\n",
    "# Predict and evaluate with optimized model\n",
    "y_pred_optimized = clf_optimized.predict(X_test)\n",
    "accuracy_optimized = accuracy_score(y_test, y_pred_optimized)\n",
    "print(f\"Accuracy with optimized hyperparameters: {accuracy_optimized}\")"
   ]
  }
 ],
 "metadata": {
  "kernelspec": {
   "display_name": "Python 3",
   "language": "python",
   "name": "python3"
  },
  "language_info": {
   "codemirror_mode": {
    "name": "ipython",
    "version": 3
   },
   "file_extension": ".py",
   "mimetype": "text/x-python",
   "name": "python",
   "nbconvert_exporter": "python",
   "pygments_lexer": "ipython3",
   "version": "3.10.4"
  }
 },
 "nbformat": 4,
 "nbformat_minor": 2
}
